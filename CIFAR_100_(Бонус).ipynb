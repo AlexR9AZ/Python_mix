{
  "nbformat": 4,
  "nbformat_minor": 0,
  "metadata": {
    "colab": {
      "name": "CIFAR-100 (Бонус).ipynb",
      "provenance": [],
      "collapsed_sections": [],
      "toc_visible": true,
      "include_colab_link": true
    },
    "kernelspec": {
      "name": "python3",
      "display_name": "Python 3"
    },
    "language_info": {
      "name": "python"
    },
    "accelerator": "GPU"
  },
  "cells": [
    {
      "cell_type": "markdown",
      "metadata": {
        "id": "view-in-github",
        "colab_type": "text"
      },
      "source": [
        "<a href=\"https://colab.research.google.com/github/AlexR9AZ/Python_mix/blob/main/CIFAR_100_(%D0%91%D0%BE%D0%BD%D1%83%D1%81).ipynb\" target=\"_parent\"><img src=\"https://colab.research.google.com/assets/colab-badge.svg\" alt=\"Open In Colab\"/></a>"
      ]
    },
    {
      "cell_type": "markdown",
      "metadata": {
        "id": "ENQsce6RN9BN"
      },
      "source": [
        "#CIFAR-100"
      ]
    },
    {
      "cell_type": "code",
      "metadata": {
        "id": "p_sge7Boze-x"
      },
      "source": [
        ""
      ],
      "execution_count": null,
      "outputs": []
    },
    {
      "cell_type": "code",
      "metadata": {
        "id": "gxRTzDfNzfiI"
      },
      "source": [
        ""
      ],
      "execution_count": null,
      "outputs": []
    },
    {
      "cell_type": "markdown",
      "metadata": {
        "id": "InL9sTcyOA-0"
      },
      "source": [
        "Датасет [CIFAR-100](https://www.cs.toronto.edu/~kriz/cifar.html) (Canadian Institute For Advanced Research) содержит 60 000 цветных изображений размером 32 на 32 пикселя. На каждом из этих изображений есть объект одного из 100 классов. Таким образом, на каждый класс приходится по 600 картинок (500 из них - на train выборке, 100 - на test).\n",
        "\n",
        "CIFAR-100 - один из самых популярных датасетов для решения задачи классификации с помощью компьютерного зрения."
      ]
    },
    {
      "cell_type": "markdown",
      "metadata": {
        "id": "6VB9BKszOAj1"
      },
      "source": [
        "# План действий"
      ]
    },
    {
      "cell_type": "markdown",
      "metadata": {
        "id": "qTPcb6UlOGKH"
      },
      "source": [
        "\n",
        "\n",
        "1.   Импортируем все необходимые библиотеки и функции;\n",
        "2.   Загрузим датасет CIFAR-100 и подготовим его к передаче в нейронную сеть;\n",
        "3.   Возьмем архитектуру нейронной сети, которую мы использовали для решения задачи классификации на датасете MNIST;\n",
        "4.   Обучим сеть на датасете CIFAR-100;\n",
        "5.   Интерпретируем полученные результаты.\n",
        "\n",
        "\n"
      ]
    },
    {
      "cell_type": "markdown",
      "metadata": {
        "id": "wA3e_aGARLnU"
      },
      "source": [
        "#Imports"
      ]
    },
    {
      "cell_type": "code",
      "metadata": {
        "id": "Z4_3uN6-SIS5"
      },
      "source": [
        "from matplotlib import pyplot as plt\n",
        "from sklearn.model_selection import train_test_split # функция \"разбиения\" выборки на train и test\n",
        "from  skimage import transform # функция, чтобы сделать картинки побольше\n",
        "import numpy as np"
      ],
      "execution_count": null,
      "outputs": []
    },
    {
      "cell_type": "code",
      "metadata": {
        "id": "3893NpPJR9rP"
      },
      "source": [
        "import keras\n",
        "from keras.datasets import cifar100\n",
        "from tensorflow.keras.applications.resnet50 import ResNet50\n",
        "from keras.models import Model\n",
        "from keras.layers import Input, Dense, AveragePooling2D, GlobalAveragePooling2D, Dropout, Flatten\n",
        "from keras.models import Sequential\n",
        "from keras.layers import Conv2D, MaxPool2D\n",
        "from keras.preprocessing.image import ImageDataGenerator\n",
        "from keras.callbacks import ReduceLROnPlateau \n",
        "import tensorflow as tf"
      ],
      "execution_count": null,
      "outputs": []
    },
    {
      "cell_type": "markdown",
      "metadata": {
        "id": "1X40jvaVR1K6"
      },
      "source": [
        "# Выгрузка данных"
      ]
    },
    {
      "cell_type": "code",
      "metadata": {
        "id": "yghUGkeEN_UF",
        "colab": {
          "base_uri": "https://localhost:8080/"
        },
        "outputId": "4586391c-cb06-4c1a-de76-fc5fa4a92f55"
      },
      "source": [
        "n_classes = 10\n",
        "(X_train, y_train), (X_test, y_test) = cifar100.load_data()\n",
        "\n",
        "n_training = X_train.shape[0]\n",
        "n_testing = X_test.shape[0]\n",
        "\n",
        "y_train = y_train.flatten()\n",
        "y_test  = y_test.flatten()\n",
        "\n",
        "print('Размерность train выборки:', X_train.shape) \n",
        "print('Размерность test выборки:', X_test.shape)\n",
        "\n"
      ],
      "execution_count": null,
      "outputs": [
        {
          "output_type": "stream",
          "name": "stdout",
          "text": [
            "Размерность train выборки: (50000, 32, 32, 3)\n",
            "Размерность test выборки: (10000, 32, 32, 3)\n"
          ]
        }
      ]
    },
    {
      "cell_type": "code",
      "metadata": {
        "colab": {
          "base_uri": "https://localhost:8080/",
          "height": 266
        },
        "id": "TKhweIL3SJ_-",
        "outputId": "1075c5f3-bda5-498b-8032-e8912fd70b78"
      },
      "source": [
        "plt.imshow(X_train[0])\n",
        "plt.show()"
      ],
      "execution_count": null,
      "outputs": [
        {
          "output_type": "display_data",
          "data": {
            "image/png": "[encoded data removed]",
            "text/plain": [
              "<Figure size 432x288 with 1 Axes>"
            ]
          },
          "metadata": {
            "needs_background": "light"
          }
        }
      ]
    },
    {
      "cell_type": "markdown",
      "metadata": {
        "id": "sej4EwPOXhZY"
      },
      "source": [
        "# Нормализуем данные"
      ]
    },
    {
      "cell_type": "code",
      "metadata": {
        "id": "ct1c41X7Xmyf"
      },
      "source": [
        "X_train = (X_train).astype('float32') / 255.0 \n",
        "X_test = (X_test).astype('float32') / 255.0 "
      ],
      "execution_count": null,
      "outputs": []
    },
    {
      "cell_type": "markdown",
      "metadata": {
        "id": "WJcrUPL9Xhf2"
      },
      "source": [
        "# Подготовим данные для нейронной сети"
      ]
    },
    {
      "cell_type": "code",
      "metadata": {
        "id": "XcFytWa0chhB"
      },
      "source": [
        "# new_shape = (224, 224, 3)\n",
        "# X_train = np.asarray([transform.resize(image, new_shape) for image in X_train])\n",
        "# X_test = np.asarray([transform.resize(image, new_shape) for image in X_test])"
      ],
      "execution_count": null,
      "outputs": []
    },
    {
      "cell_type": "code",
      "metadata": {
        "id": "Ri1b9ue2N1o1"
      },
      "source": [
        "# эту ячейку мы используем, так как хотим подавать в сеть картинки размером 32 на 32\n",
        "\n",
        "X_train = X_train.reshape(X_train.shape[0], 32, 32, 3)\n",
        "X_test = X_test.reshape(X_test.shape[0], 32, 32, 3)"
      ],
      "execution_count": null,
      "outputs": []
    },
    {
      "cell_type": "markdown",
      "metadata": {
        "id": "4TMJEV-HTqAV"
      },
      "source": [
        "# Создадим модель"
      ]
    },
    {
      "cell_type": "markdown",
      "metadata": {
        "id": "qgIheNLWW4kL"
      },
      "source": [
        "Обучим модель, используя архитектуру сети, которую мы написали для датасета MNIST."
      ]
    },
    {
      "cell_type": "code",
      "metadata": {
        "id": "jsggUjeIWyV_"
      },
      "source": [
        "BATCH_SIZE = 64\n",
        "NUM_CLASSES = 100\n",
        "EPOCHS = 10\n",
        "INPUT_SIZE = (32, 32, 3)"
      ],
      "execution_count": null,
      "outputs": []
    },
    {
      "cell_type": "code",
      "metadata": {
        "id": "jWamokuHW0TH"
      },
      "source": [
        "y_train = keras.utils.np_utils.to_categorical(y_train, NUM_CLASSES)\n",
        "X_train, X_validation, y_train, y_validation = train_test_split(X_train, y_train, test_size = 0.2, random_state=42)"
      ],
      "execution_count": null,
      "outputs": []
    },
    {
      "cell_type": "code",
      "metadata": {
        "id": "FDEYivgjW0Zf"
      },
      "source": [
        "model = Sequential()\n",
        "\n",
        "#Первый conv-conv-pool блок\n",
        "model.add(Conv2D(filters = 32, kernel_size = (5,5), padding = 'Same',\n",
        "                activation = 'relu', input_shape = (32, 32, 3)))\n",
        "model.add(Conv2D(filters = 32, kernel_size = (5,5), padding = 'Same',\n",
        "                activation = 'relu'))\n",
        "model.add(MaxPool2D(pool_size = (2,2)))\n",
        "model.add(Dropout(0.25))\n",
        "          \n",
        "#Второй conv-conv-pool блок\n",
        "model.add(Conv2D(filters = 64, kernel_size = (3,3), padding = 'Same',\n",
        "                activation = 'relu'))\n",
        "model.add(Conv2D(filters = 64, kernel_size = (3,3), padding = 'Same',\n",
        "                activation = 'relu'))\n",
        "model.add(MaxPool2D(pool_size = (2,2), strides = (2,2)))\n",
        "model.add(Dropout(0.25))\n",
        "\n",
        "#Третий conv-conv-pool блок\n",
        "model.add(Conv2D(filters = 128, kernel_size = (3,3), padding = 'Same',\n",
        "                activation = 'relu'))\n",
        "model.add(Conv2D(filters = 128, kernel_size = (3,3), padding = 'Same',\n",
        "                activation = 'relu'))\n",
        "model.add(MaxPool2D(pool_size = (2,2), strides = (2,2)))\n",
        "model.add(Dropout(0.25))\n",
        "          \n",
        "#Голова сети\n",
        "model.add(Flatten())\n",
        "model.add(Dense(256, activation = 'relu'))\n",
        "model.add(Dropout(0.5))\n",
        "model.add(Dense(100, activation = 'softmax'))"
      ],
      "execution_count": null,
      "outputs": []
    },
    {
      "cell_type": "code",
      "metadata": {
        "id": "ki5oA-jQW0ug"
      },
      "source": [
        "model.compile(loss = keras.losses.categorical_crossentropy,\n",
        "              optimizer = tf.keras.optimizers.RMSprop(),\n",
        "              metrics = ['accuracy'])"
      ],
      "execution_count": null,
      "outputs": []
    },
    {
      "cell_type": "code",
      "metadata": {
        "id": "qfYYoVJGW01W"
      },
      "source": [
        "reduce_on_plateau = ReduceLROnPlateau(monitor='val_acc', \n",
        "                                            patience=3, \n",
        "                                            verbose=1, \n",
        "                                            factor=0.5, \n",
        "                                            min_lr=0.0001)"
      ],
      "execution_count": null,
      "outputs": []
    },
    {
      "cell_type": "code",
      "metadata": {
        "id": "5qFEA0-OW07x"
      },
      "source": [
        "datagen = ImageDataGenerator()"
      ],
      "execution_count": null,
      "outputs": []
    },
    {
      "cell_type": "code",
      "metadata": {
        "colab": {
          "base_uri": "https://localhost:8080/"
        },
        "id": "lAMN9YFfW1CQ",
        "outputId": "d34ecbdf-4192-49d5-94ba-9ba907b3e703"
      },
      "source": [
        "datagen.fit(X_train)\n",
        "h = model.fit_generator(datagen.flow(X_train,y_train, batch_size = BATCH_SIZE),\n",
        "                        epochs = EPOCHS, \n",
        "                        validation_data = (X_validation, y_validation),\n",
        "                        verbose = 1, \n",
        "                        steps_per_epoch = X_train.shape[0] // BATCH_SIZE, \n",
        "                        callbacks=[reduce_on_plateau])"
      ],
      "execution_count": null,
      "outputs": [
        {
          "output_type": "stream",
          "name": "stderr",
          "text": [
            "/usr/local/lib/python3.7/dist-packages/keras/engine/training.py:1972: UserWarning: `Model.fit_generator` is deprecated and will be removed in a future version. Please use `Model.fit`, which supports generators.\n",
            "  warnings.warn('`Model.fit_generator` is deprecated and '\n"
          ]
        },
        {
          "output_type": "stream",
          "name": "stdout",
          "text": [
            "Epoch 1/10\n",
            "625/625 [==============================] - 22s 30ms/step - loss: 4.3436 - accuracy: 0.0377 - val_loss: 3.9318 - val_accuracy: 0.0876\n",
            "WARNING:tensorflow:Learning rate reduction is conditioned on metric `val_acc` which is not available. Available metrics are: loss,accuracy,val_loss,val_accuracy,lr\n",
            "Epoch 2/10\n",
            "625/625 [==============================] - 18s 29ms/step - loss: 3.8437 - accuracy: 0.1097 - val_loss: 3.6168 - val_accuracy: 0.1528\n",
            "WARNING:tensorflow:Learning rate reduction is conditioned on metric `val_acc` which is not available. Available metrics are: loss,accuracy,val_loss,val_accuracy,lr\n",
            "Epoch 3/10\n",
            "625/625 [==============================] - 18s 29ms/step - loss: 3.5394 - accuracy: 0.1614 - val_loss: 3.3792 - val_accuracy: 0.1983\n",
            "WARNING:tensorflow:Learning rate reduction is conditioned on metric `val_acc` which is not available. Available metrics are: loss,accuracy,val_loss,val_accuracy,lr\n",
            "Epoch 4/10\n",
            "625/625 [==============================] - 18s 29ms/step - loss: 3.3282 - accuracy: 0.2004 - val_loss: 3.0913 - val_accuracy: 0.2472\n",
            "WARNING:tensorflow:Learning rate reduction is conditioned on metric `val_acc` which is not available. Available metrics are: loss,accuracy,val_loss,val_accuracy,lr\n",
            "Epoch 5/10\n",
            "625/625 [==============================] - 19s 30ms/step - loss: 3.1590 - accuracy: 0.2318 - val_loss: 2.9016 - val_accuracy: 0.2759\n",
            "WARNING:tensorflow:Learning rate reduction is conditioned on metric `val_acc` which is not available. Available metrics are: loss,accuracy,val_loss,val_accuracy,lr\n",
            "Epoch 6/10\n",
            "625/625 [==============================] - 18s 29ms/step - loss: 3.0510 - accuracy: 0.2542 - val_loss: 2.8487 - val_accuracy: 0.2837\n",
            "WARNING:tensorflow:Learning rate reduction is conditioned on metric `val_acc` which is not available. Available metrics are: loss,accuracy,val_loss,val_accuracy,lr\n",
            "Epoch 7/10\n",
            "625/625 [==============================] - 18s 29ms/step - loss: 2.9559 - accuracy: 0.2704 - val_loss: 2.7662 - val_accuracy: 0.3085\n",
            "WARNING:tensorflow:Learning rate reduction is conditioned on metric `val_acc` which is not available. Available metrics are: loss,accuracy,val_loss,val_accuracy,lr\n",
            "Epoch 8/10\n",
            "625/625 [==============================] - 18s 29ms/step - loss: 2.8796 - accuracy: 0.2885 - val_loss: 2.6981 - val_accuracy: 0.3142\n",
            "WARNING:tensorflow:Learning rate reduction is conditioned on metric `val_acc` which is not available. Available metrics are: loss,accuracy,val_loss,val_accuracy,lr\n",
            "Epoch 9/10\n",
            "625/625 [==============================] - 18s 29ms/step - loss: 2.8470 - accuracy: 0.2951 - val_loss: 2.7796 - val_accuracy: 0.3066\n",
            "WARNING:tensorflow:Learning rate reduction is conditioned on metric `val_acc` which is not available. Available metrics are: loss,accuracy,val_loss,val_accuracy,lr\n",
            "Epoch 10/10\n",
            "625/625 [==============================] - 18s 29ms/step - loss: 2.8091 - accuracy: 0.3045 - val_loss: 2.6770 - val_accuracy: 0.3279\n",
            "WARNING:tensorflow:Learning rate reduction is conditioned on metric `val_acc` which is not available. Available metrics are: loss,accuracy,val_loss,val_accuracy,lr\n"
          ]
        }
      ]
    },
    {
      "cell_type": "markdown",
      "metadata": {
        "id": "sFs-c5giO0Ct"
      },
      "source": [
        "Обратите внимание, что на протяжении всего обучения loss падал. Это значит, что наша сеть действительно училась, просто ей не хватило времени для того, чтобы полностью обучиться и достигнуть хорошей метрики accuracy (на 10 эпохах она составляла 0.3). \n",
        "\n",
        "Таким образом, для начала можно попробовать увеличить количество эпох (EPOCHS) на обучении."
      ]
    },
    {
      "cell_type": "markdown",
      "metadata": {
        "id": "d4QHaW-3YNlp"
      },
      "source": [
        "# Возможные улучшения"
      ]
    },
    {
      "cell_type": "markdown",
      "metadata": {
        "id": "rcAnSP63YQl7"
      },
      "source": [
        "\n",
        "\n",
        "*   Усложнение архитектуры сети;\n",
        "*   Использование fine-tuning;\n",
        "*   Больше эпох на обучении.\n",
        "\n"
      ]
    },
    {
      "cell_type": "code",
      "metadata": {
        "id": "uGGYMstobpLM"
      },
      "source": [
        ""
      ],
      "execution_count": null,
      "outputs": []
    }
  ]
}